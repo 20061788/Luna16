{
  "nbformat": 4,
  "nbformat_minor": 0,
  "metadata": {
    "colab": {
      "name": "LUNA16_papers.ipynb",
      "provenance": [],
      "collapsed_sections": [
        "iRIYQJFFMkMl",
        "NUAykYdJJdzj"
      ],
      "authorship_tag": "ABX9TyObTPz3jP3CX/qDAHj2MUvY",
      "include_colab_link": true
    },
    "kernelspec": {
      "name": "python3",
      "display_name": "Python 3"
    }
  },
  "cells": [
    {
      "cell_type": "markdown",
      "metadata": {
        "id": "view-in-github",
        "colab_type": "text"
      },
      "source": [
        "<a href=\"https://colab.research.google.com/github/s-mostafa-a/Luna16/blob/master/LUNA16_papers.ipynb\" target=\"_parent\"><img src=\"https://colab.research.google.com/assets/colab-badge.svg\" alt=\"Open In Colab\"/></a>"
      ]
    },
    {
      "cell_type": "markdown",
      "metadata": {
        "id": "dK_sVr2p-HJ5",
        "colab_type": "text"
      },
      "source": [
        "# ****Validation, comparison, and combination of algorithms for automatic detection of pulmonary nodules in computed tomography images: The LUNA16 challenge****\n",
        "\n",
        "###Summary\n",
        "\n",
        "The Luna challenge has been set up by authors of this paper.\n",
        "luna challenge had two tasks:\n",
        "\n",
        "1. the complete nodule detection track where a complete CAD system should be developed\n",
        "2. the false positive reduction track where a provided set of nodule candidates should be classified\n",
        "\n",
        "\n",
        "They observed <q>leading solutions employed convolutional networks</q>. Their main point is that <q>The combination of these solutions achieved an excellent <span title=\"True_Positive/(True_Positive + False_Negative)\">sensitivity</span> of over 95% at fewer than 1.0 false positives per scan.</q>\n",
        "\n",
        "The most interesting fact is that their study observer with four expert readers has shown that the best system detects nodules that were missed by expert readers who originally annotated the <span title=\"The origin of LUNA16 data\">LIDC-IDRI data</span>!\n",
        "\n",
        "###Introduction\n",
        "The original challenge of the real world is that the countries are starting annual chest screening programs, so one major arising challenge is <q>the enormous amount of CT images that must be analyzed by radiologists</q>.\n",
        "\n",
        "The dataset of this challenge is collected from LIDC-IDRI database. To describe LIDC-IDRI, they have written the following in the paper:\n",
        "\n",
        "<q>The LIDC-IDRI database contains a total of 1018 CT scans. CT images come with associated XML files with annotations from four experienced radiologists. The database is very heterogeneous: It consists of clinical dose and low-dose CT scans collected from seven different participating academic institutions, and a wide range of scanner models and acquisition parameters.</q>\n",
        "\n",
        "From the LIDC-IDRI database, they have <q>discarded scans with a slice thickness greater than 3 mm. On top of that, scans with inconsistent slice spacing or missing slices were also excluded</q>.\n",
        "So they finally achieved 888 CT images in .mhd format. They used four radiologists independently to annotate scans and mark all suspicious lesions as: nodule ≥ 3 mm; nodule < 3 mm; non-nodule (as other pulmonary abnormality). They used some policies to merge the lesions wich were annotated by more than one radiologist which is out of this summaries context.\n",
        "\n",
        "Luna was a completely open challenge, so they gave a cross validation recipe that participants should consider not using test data.\n",
        "\n",
        "\n",
        "They had also 2 challenge tracks which we are not involved in second one, the false positive reduction."
      ]
    },
    {
      "cell_type": "markdown",
      "metadata": {
        "id": "iRIYQJFFMkMl",
        "colab_type": "text"
      },
      "source": [
        "###### Some notes"
      ]
    },
    {
      "cell_type": "markdown",
      "metadata": {
        "id": "NUAykYdJJdzj",
        "colab_type": "text"
      },
      "source": [
        "* **what is slice thickness?** \n",
        "\n",
        "according to [this](https://www.materialise.com/en/faq/what-difference-between-slice-thickness-and-slice-increment), Slice thickness and slice increment are central concepts that surround CT/MRI imaging. Slice thickness refers to the (often axial) resolution of the scan (2 mm in the illustration). Slice Increment refers to the movement of the table/scanner for scanning the next slice (varying from 1 mm to 4 mm in the illustration).\n",
        "![alt text](http://www.materialise.com/sites/default/files/image-uploads/pages/Medical/slice_increment.jpg)\n",
        "\n",
        "\n",
        "* What are axial, sagittal, coronal? \n",
        "\n",
        "These are image reconstruction planes.\n",
        "The picture below shows everything needed:\n",
        "\n",
        "![axial, sagittal, coronal](https://www.ipfradiologyrounds.com/_images/reconstruction-planes.png)\n"
      ]
    },
    {
      "cell_type": "markdown",
      "metadata": {
        "id": "dC4uQ4Y0JdqL",
        "colab_type": "text"
      },
      "source": [
        "### Methods for complete nodule detection system\n",
        "\n",
        "1. ZNET [[source code](https://github.com/gzuidhof/luna16)]\n",
        "\n",
        "As a preprocessing step, CT images are resampled to <span title=\"meaning that the resolution is approximately equal in all directions\">isotropic resolution</span> of 0.5 mm.\n",
        "U-net is applied on each axial slice. Before applying U-Net, the resampled input slice is cropped to 512 × 512. \n",
        "\n",
        "The candidates are extracted based on the slice-based probability map output of the U-net. A threholding is applied to obtain candidate masks. The threshold was determined on the validation subset, maximizing the number of detected nodules. Thereafter, a morphological erosion operation with a 4-neighborhood kernel is used to remove partial volume effects. The candidates are then grouped by performing connected component analysis. The center of mass of the components represent the coordinates of the candidates.\n",
        "\n",
        "2. Aidence\n",
        "\n",
        "A detailed description is not available because of commercial confidentiality.\n",
        "\n",
        "3. JianPeiCAD\n",
        "\n",
        "A detailed description is not available because of commercial confidentiality.\n",
        "\n",
        "4. MOT_M5Lv1\n",
        "\n",
        "The candidate detection algorithm was developed based on the method proposed by Messay et al. (2010). Multiple gray level thresholding and morphological processing is used to detect and segment nodule candidates. Several modifications to the sequence of threshold and opening radius as well as the merging procedure are made. Subsequently, a dedicated nodule segmentation method is applied to separate nodules from vascular structures during the segmentation step.\n",
        "\n",
        "5. VISIACTLung\n",
        "\n",
        "A detailed description is not available because of commercial confidentiality.\n",
        "\n",
        "6. ETROCAD\n",
        "\n",
        "The nodule candidate algorithm for this CAD, consists of a nodule segmentation method based on nodule and vessel enhancement filters and a computed divergence feature to locate the centers of the nodule clusters.\n",
        "\n",
        "7. M5LCAD\n",
        "\n",
        "Uses M5L candidate detection algorithm which consists of two different algorithms: LungCAM and Voxel-Based Neural Approach (VBNA).\n",
        "\n",
        "\n",
        "\n"
      ]
    },
    {
      "cell_type": "markdown",
      "metadata": {
        "id": "nNLVDeEk9_oO",
        "colab_type": "text"
      },
      "source": [
        "### some notes\n"
      ]
    },
    {
      "cell_type": "markdown",
      "metadata": {
        "id": "Fo5q88SDJdfs",
        "colab_type": "text"
      },
      "source": [
        "* Morphological Processing Erosion & Dilation: dilation means to expand an object using a structuring element (add neighbor pixels which window supports them and the window has any pixel in common with object), in contrast erosion means to make object smaller using a structuring element(remove pixels which window doesn't fit in it). [Watch this video](https://www.youtube.com/watch?v=7-FZBgrW4RE)\n",
        "\n",
        "* Connected component labeling (alternatively connected component analysis) is an algorithmic application of graph theory, where subsets of connected components are uniquely labeled. Connected component labeling is used in computer vision to detect connected regions in binary digital images. Below image gives a good Intuition:\n",
        "![connected components](https://upload.wikimedia.org/wikipedia/commons/thumb/a/ae/Screenshot-Figure_1.png/800px-Screenshot-Figure_1.png)"
      ]
    },
    {
      "cell_type": "markdown",
      "metadata": {
        "id": "GfIbw8nwaW8X",
        "colab_type": "text"
      },
      "source": [
        "### I am going to use ZNET, MOT_M5Lv1, ETROCAD, and M5LCAD."
      ]
    },
    {
      "cell_type": "markdown",
      "metadata": {
        "id": "Bkwr1YA7n1PW",
        "colab_type": "text"
      },
      "source": [
        ""
      ]
    }
  ]
}