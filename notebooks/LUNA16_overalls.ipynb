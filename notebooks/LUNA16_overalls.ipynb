{
  "nbformat": 4,
  "nbformat_minor": 0,
  "metadata": {
    "colab": {
      "name": "LUNA16_overalls.ipynb",
      "provenance": [],
      "collapsed_sections": [],
      "authorship_tag": "ABX9TyMIx+R6f/lyGQM6X3NufI0x",
      "include_colab_link": true
    },
    "kernelspec": {
      "name": "python3",
      "display_name": "Python 3"
    }
  },
  "cells": [
    {
      "cell_type": "markdown",
      "metadata": {
        "id": "view-in-github",
        "colab_type": "text"
      },
      "source": [
        "<a href=\"https://colab.research.google.com/github/s-mostafa-a/Luna16/blob/master/LUNA16_overalls.ipynb\" target=\"_parent\"><img src=\"https://colab.research.google.com/assets/colab-badge.svg\" alt=\"Open In Colab\"/></a>"
      ]
    },
    {
      "cell_type": "markdown",
      "metadata": {
        "id": "bIeBGkex1wR6",
        "colab_type": "text"
      },
      "source": [
        "Based on [this paper](http://jmai.amegroups.com/article/view/4970/html), data specifications for LUNA16:\n",
        "\n",
        "The LUNA16 dataset was created for the challenge of LUng Nodule Analysis 2016 including 888 CT scans, which were gathered from LIDC-IDRI with slice thickness less than 3mm. There are totally 36,378 annotations of nodules that were marked by more than one radiologists, while there are 2,290, 1,602, 1,186, and 777 nodules annotated by at least 1, 2, 3, or 4 radiologists, respectively. Nodules annotated by at least 3 radiologists are regarded as true nodules, whose annotations of diameters and positions are the average of annotation in LIDC-IDRI.\n",
        "\n",
        "<br>\n",
        "P.S: Slice thickness and slice increment are central concepts that surround CT/MRI imaging. Slice thickness refers to the (often axial) resolution of the scan (2 mm in the illustration). Slice Increment refers to the movement of the table/scanner for scanning the next slice (varying from 1 mm to 4 mm in the illustration).\n",
        "\n",
        "![thickness and increment](http://www.materialise.com/sites/default/files/image-uploads/pages/Medical/slice_increment.jpg)\n",
        "\n"
      ]
    },
    {
      "cell_type": "markdown",
      "metadata": {
        "id": "fJ2IPmQN4ShX",
        "colab_type": "text"
      },
      "source": [
        "Papers to read:\n",
        "\n",
        "* [Propagating uncertainty in multi-stage Bayesian convolutional neural networks with application to pulmonary nodule detection](https://arxiv.org/pdf/1712.00497.pdf)\n",
        "* [DeepEM: Deep 3D ConvNets With EM For Weakly Supervised Pulmonary Nodule Detection](https://arxiv.org/pdf/1805.05373.pdf)\n",
        "* [3D Region Proposal U-Net with Dense and Residual Learning for Lung Nodule Detection](https://pdfs.semanticscholar.org/e629/bbeba17b8312fde05b0334760e6743d11a4d.pdf)\n",
        "* [Multilevel contextual 3-D CNNs for false positive reduction in pulmonary nodule detection](https://sci-hub.tw/10.1109/tbme.2016.2613502)\n",
        "* [An Automatic Detection System of Lung Nodule Based on Multi-Group Patch-Based Deep Learning Network](https://sci-hub.tw/10.1109/JBHI.2017.2725903)\n",
        "* ~~[Validation, comparison, and combination of algorithms for automatic detection of pulmonary nodules in computed tomography images: The LUNA16 challenge](https://arxiv.org/pdf/1612.08012.pdf)~~"
      ]
    },
    {
      "cell_type": "markdown",
      "metadata": {
        "id": "Is9G96adpHXL",
        "colab_type": "text"
      },
      "source": [
        "\n",
        "[This repo](https://github.com/BCV-Uniandes/LungCancerDiagnosis-pytorch) has got pretrained model!\n"
      ]
    },
    {
      "cell_type": "code",
      "metadata": {
        "id": "M5D_vTsJ1l-s",
        "colab_type": "code",
        "colab": {}
      },
      "source": [
        ""
      ],
      "execution_count": null,
      "outputs": []
    }
  ]
}