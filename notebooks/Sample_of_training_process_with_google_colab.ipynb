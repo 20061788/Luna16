{
  "nbformat": 4,
  "nbformat_minor": 0,
  "metadata": {
    "colab": {
      "name": "Sample_of_training_process_with_google_colab.ipynb",
      "provenance": [],
      "collapsed_sections": [],
      "authorship_tag": "ABX9TyMziCdKFbZlXmn1dLYRjxuF",
      "include_colab_link": true
    },
    "kernelspec": {
      "name": "python3",
      "display_name": "Python 3"
    },
    "accelerator": "GPU"
  },
  "cells": [
    {
      "cell_type": "markdown",
      "metadata": {
        "id": "view-in-github",
        "colab_type": "text"
      },
      "source": [
        "<a href=\"https://colab.research.google.com/github/s-mostafa-a/Luna16/blob/master/notebooks/Sample_of_training_process_with_google_colab.ipynb\" target=\"_parent\"><img src=\"https://colab.research.google.com/assets/colab-badge.svg\" alt=\"Open In Colab\"/></a>"
      ]
    },
    {
      "cell_type": "code",
      "metadata": {
        "id": "UNakblVzwAir",
        "colab_type": "code",
        "colab": {
          "base_uri": "https://localhost:8080/",
          "height": 153
        },
        "outputId": "f9620798-af10-49d5-de4e-d48d96cd38ac"
      },
      "source": [
        "!git clone http://github.com/s-mostafa-a/Luna16"
      ],
      "execution_count": 1,
      "outputs": [
        {
          "output_type": "stream",
          "text": [
            "Cloning into 'Luna16'...\n",
            "warning: redirecting to https://github.com/s-mostafa-a/Luna16/\n",
            "remote: Enumerating objects: 83, done.\u001b[K\n",
            "remote: Counting objects: 100% (83/83), done.\u001b[K\n",
            "remote: Compressing objects: 100% (61/61), done.\u001b[K\n",
            "remote: Total 421 (delta 35), reused 63 (delta 21), pack-reused 338\u001b[K\n",
            "Receiving objects: 100% (421/421), 3.28 MiB | 17.22 MiB/s, done.\n",
            "Resolving deltas: 100% (202/202), done.\n"
          ],
          "name": "stdout"
        }
      ]
    },
    {
      "cell_type": "code",
      "metadata": {
        "id": "zlLo_R1kwLHs",
        "colab_type": "code",
        "colab": {
          "base_uri": "https://localhost:8080/",
          "height": 122
        },
        "outputId": "52121836-718b-4fef-a601-1019317c359b"
      },
      "source": [
        "from google.colab import drive\n",
        "drive.mount(\"/content/drive\")"
      ],
      "execution_count": 2,
      "outputs": [
        {
          "output_type": "stream",
          "text": [
            "Go to this URL in a browser: https://accounts.google.com/o/oauth2/auth?client_id=947318989803-6bn6qk8qdgf4n4g3pfee6491hc0brc4i.apps.googleusercontent.com&redirect_uri=urn%3aietf%3awg%3aoauth%3a2.0%3aoob&response_type=code&scope=email%20https%3a%2f%2fwww.googleapis.com%2fauth%2fdocs.test%20https%3a%2f%2fwww.googleapis.com%2fauth%2fdrive%20https%3a%2f%2fwww.googleapis.com%2fauth%2fdrive.photos.readonly%20https%3a%2f%2fwww.googleapis.com%2fauth%2fpeopleapi.readonly\n",
            "\n",
            "Enter your authorization code:\n",
            "··········\n",
            "Mounted at /content/drive\n"
          ],
          "name": "stdout"
        }
      ]
    },
    {
      "cell_type": "code",
      "metadata": {
        "id": "fLSvMwBcwZ3d",
        "colab_type": "code",
        "colab": {}
      },
      "source": [
        "!cp ./drive/My\\ Drive/input.zip ./"
      ],
      "execution_count": 3,
      "outputs": []
    },
    {
      "cell_type": "code",
      "metadata": {
        "id": "mHmVOGqHwnaZ",
        "colab_type": "code",
        "colab": {
          "base_uri": "https://localhost:8080/",
          "height": 394
        },
        "outputId": "fbd2554e-8146-4d42-e42d-b0240435bf91"
      },
      "source": [
        "!unzip input.zip"
      ],
      "execution_count": 4,
      "outputs": [
        {
          "output_type": "stream",
          "text": [
            "Archive:  input.zip\n",
            "   creating: input/\n",
            "   creating: input/subset/\n",
            "  inflating: input/subset/1.3.6.1.4.1.14519.5.2.1.6279.6001.109002525524522225658609808059.raw  \n",
            "   creating: __MACOSX/\n",
            "   creating: __MACOSX/input/\n",
            "   creating: __MACOSX/input/subset/\n",
            "  inflating: __MACOSX/input/subset/._1.3.6.1.4.1.14519.5.2.1.6279.6001.109002525524522225658609808059.raw  \n",
            "  inflating: input/subset/1.3.6.1.4.1.14519.5.2.1.6279.6001.238522526736091851696274044574.mhd  \n",
            "  inflating: input/subset/1.3.6.1.4.1.14519.5.2.1.6279.6001.272042302501586336192628818865.raw  \n",
            "  inflating: input/subset/1.3.6.1.4.1.14519.5.2.1.6279.6001.311981398931043315779172047718.mhd  \n",
            "  inflating: input/subset/.DS_Store  \n",
            "  inflating: __MACOSX/input/subset/._.DS_Store  \n",
            "  inflating: input/subset/1.3.6.1.4.1.14519.5.2.1.6279.6001.311981398931043315779172047718.raw  \n",
            "  inflating: input/subset/1.3.6.1.4.1.14519.5.2.1.6279.6001.272042302501586336192628818865.mhd  \n",
            "  inflating: input/subset/1.3.6.1.4.1.14519.5.2.1.6279.6001.238522526736091851696274044574.raw  \n",
            "  inflating: input/subset/1.3.6.1.4.1.14519.5.2.1.6279.6001.109002525524522225658609808059.mhd  \n",
            "  inflating: input/.DS_Store         \n",
            "  inflating: __MACOSX/input/._.DS_Store  \n",
            "  inflating: input/candidates.csv    \n",
            "  inflating: input/annotations.csv   \n"
          ],
          "name": "stdout"
        }
      ]
    },
    {
      "cell_type": "code",
      "metadata": {
        "id": "r4TyVxlJw1S4",
        "colab_type": "code",
        "colab": {}
      },
      "source": [
        "!rm -r __MACOSX"
      ],
      "execution_count": 5,
      "outputs": []
    },
    {
      "cell_type": "code",
      "metadata": {
        "id": "S-YELs8ZxBhV",
        "colab_type": "code",
        "colab": {}
      },
      "source": [
        "!mkdir output"
      ],
      "execution_count": 6,
      "outputs": []
    },
    {
      "cell_type": "code",
      "metadata": {
        "id": "5p_gkGcHXBwX",
        "colab_type": "code",
        "colab": {}
      },
      "source": [
        "f = open(\"./Luna16/setup.py\", \"w+\")\n",
        "f.write(\"\"\"\n",
        "from setuptools import setup, find_packages\n",
        "setup(name='mosiluna', version='1.0', packages=find_packages())\n",
        "\"\"\")\n",
        "f.close()"
      ],
      "execution_count": 7,
      "outputs": []
    },
    {
      "cell_type": "code",
      "metadata": {
        "id": "QGZ5d_QZWFSW",
        "colab_type": "code",
        "colab": {
          "base_uri": "https://localhost:8080/",
          "height": 34
        },
        "outputId": "11c1dc27-1d85-4a69-fa44-2806d5ff06d5"
      },
      "source": [
        "%cd Luna16/"
      ],
      "execution_count": 8,
      "outputs": [
        {
          "output_type": "stream",
          "text": [
            "/content/Luna16\n"
          ],
          "name": "stdout"
        }
      ]
    },
    {
      "cell_type": "code",
      "metadata": {
        "id": "htdUiWDDWWCL",
        "colab_type": "code",
        "colab": {
          "base_uri": "https://localhost:8080/",
          "height": 85
        },
        "outputId": "255147f2-2bc9-4c1d-e4da-18d192a07a00"
      },
      "source": [
        "!pip install -e ."
      ],
      "execution_count": 9,
      "outputs": [
        {
          "output_type": "stream",
          "text": [
            "Obtaining file:///content/Luna16\n",
            "Installing collected packages: mosiluna\n",
            "  Running setup.py develop for mosiluna\n",
            "Successfully installed mosiluna\n"
          ],
          "name": "stdout"
        }
      ]
    },
    {
      "cell_type": "code",
      "metadata": {
        "id": "tDL6f5tzWt9q",
        "colab_type": "code",
        "colab": {
          "base_uri": "https://localhost:8080/",
          "height": 34
        },
        "outputId": "fb2682a9-420b-405b-ca25-82d029e89aa7"
      },
      "source": [
        "%cd .."
      ],
      "execution_count": 10,
      "outputs": [
        {
          "output_type": "stream",
          "text": [
            "/content\n"
          ],
          "name": "stdout"
        }
      ]
    },
    {
      "cell_type": "code",
      "metadata": {
        "id": "GaUYU8Nbx4Z_",
        "colab_type": "code",
        "colab": {
          "base_uri": "https://localhost:8080/",
          "height": 54
        },
        "outputId": "9edfe573-b17d-46a9-b6d2-b81d772d31c0"
      },
      "source": [
        "import os\n",
        "import sys\n",
        "ls = ['Luna16']\n",
        "for f in ls:\n",
        "  fp = os.path.abspath(os.path.join(f))\n",
        "  if fp not in sys.path:\n",
        "    sys.path.insert(1, fp)\n",
        "print(sys.path)"
      ],
      "execution_count": 11,
      "outputs": [
        {
          "output_type": "stream",
          "text": [
            "['', '/content/Luna16', '/env/python', '/usr/lib/python36.zip', '/usr/lib/python3.6', '/usr/lib/python3.6/lib-dynload', '/usr/local/lib/python3.6/dist-packages', '/usr/lib/python3/dist-packages', '/usr/local/lib/python3.6/dist-packages/IPython/extensions', '/root/.ipython']\n"
          ],
          "name": "stdout"
        }
      ]
    },
    {
      "cell_type": "code",
      "metadata": {
        "id": "QriL8yzHXg7k",
        "colab_type": "code",
        "colab": {
          "base_uri": "https://localhost:8080/",
          "height": 122
        },
        "outputId": "85132a48-fb53-47e8-f24e-027fff9e83ed"
      },
      "source": [
        "!pip install SimpleITK"
      ],
      "execution_count": 12,
      "outputs": [
        {
          "output_type": "stream",
          "text": [
            "Collecting SimpleITK\n",
            "\u001b[?25l  Downloading https://files.pythonhosted.org/packages/f8/d8/53338c34f71020725ffb3557846c80af96c29c03bc883551a2565aa68a7c/SimpleITK-1.2.4-cp36-cp36m-manylinux1_x86_64.whl (42.5MB)\n",
            "\u001b[K     |████████████████████████████████| 42.5MB 73kB/s \n",
            "\u001b[?25hInstalling collected packages: SimpleITK\n",
            "Successfully installed SimpleITK-1.2.4\n"
          ],
          "name": "stdout"
        }
      ]
    },
    {
      "cell_type": "code",
      "metadata": {
        "id": "chenWodWadm8",
        "colab_type": "code",
        "colab": {}
      },
      "source": [
        "f = open(\"./Luna16/configs.py\", \"w+\")\n",
        "f.write(\"\"\"\n",
        "OUTPUT_PATH = '/content/output'\n",
        "RESOURCES_PATH = '/content/input'\n",
        "\n",
        "\n",
        "BLOCK_SIZE = 128\n",
        "TARGET_SHAPE = (32, 32, 32, 3, 5)\n",
        "COORDS_SHAPE = (3, 32, 32, 32)\n",
        "ANCHOR_SIZES = [10, 30, 60]\n",
        "VAL_PCT = 0.5\n",
        "TOTAL_EPOCHS = 15\n",
        "DEFAULT_LR = 0.01\"\"\")\n",
        "f.close()"
      ],
      "execution_count": 13,
      "outputs": []
    },
    {
      "cell_type": "code",
      "metadata": {
        "id": "ZZivro3dxSe4",
        "colab_type": "code",
        "colab": {
          "base_uri": "https://localhost:8080/",
          "height": 71
        },
        "outputId": "4f950303-72c0-4502-a500-da66a1993162"
      },
      "source": [
        "!python ./Luna16/prepare/run.py"
      ],
      "execution_count": 14,
      "outputs": [
        {
          "output_type": "stream",
          "text": [
            "/content/Luna16/prepare/utility.py:263: UserWarning: Input image is entirely zero, no valid convex hull. Returning empty image\n",
            "  l = convex_hull_image(l)\n"
          ],
          "name": "stdout"
        }
      ]
    },
    {
      "cell_type": "code",
      "metadata": {
        "id": "3ogr5ZlDBWc4",
        "colab_type": "code",
        "colab": {
          "base_uri": "https://localhost:8080/",
          "height": 1000
        },
        "outputId": "8559427f-4609-469d-ac73-e98ad832aa62"
      },
      "source": [
        "!python ./Luna16/main/train.py"
      ],
      "execution_count": 15,
      "outputs": [
        {
          "output_type": "stream",
          "text": [
            "Epoch 0 (lr 0.01)\n",
            "Train: tpr 100.0,\n",
            "            tnr 0.0, \n",
            "            total pos 1.0, total neg 2.0, \n",
            "            time 3.8460805416107178\n",
            "loss 2.2771928310394287, classify loss 0.2575281858444214,\n",
            "            regress loss 0.12280429899692535, 0.021075496450066566, \n",
            "            0.23670761287212372, 1.6390771865844727\n",
            "time 1.1710338592529297\n",
            "loss 0.3100055754184723, classify loss 0.3100055754184723,\n",
            "            regress loss 0.0, 0.0, \n",
            "            0.0, 0.0\n",
            "Epoch 1 (lr 0.01)\n",
            "Train: tpr 0.0,\n",
            "            tnr 0.0, \n",
            "            total pos 1.0, total neg 2.0, \n",
            "            time 3.3846323490142822\n",
            "loss 4.805970191955566, classify loss 0.457507848739624,\n",
            "            regress loss 1.9688551425933838, 1.4550700187683105, \n",
            "            0.9185117483139038, 0.006025125738233328\n",
            "time 1.1769680976867676\n",
            "loss 16.72589874267578, classify loss 16.72589874267578,\n",
            "            regress loss 0.0, 0.0, \n",
            "            0.0, 0.0\n",
            "Epoch 2 (lr 0.01)\n",
            "Train: tpr 100.0,\n",
            "            tnr 0.0, \n",
            "            total pos 1.0, total neg 2.0, \n",
            "            time 3.3701698780059814\n",
            "loss 4.803798198699951, classify loss 0.3026392161846161,\n",
            "            regress loss 0.0455872006714344, 1.9576523303985596, \n",
            "            1.1802048683166504, 1.317714810371399\n",
            "time 1.1715760231018066\n",
            "loss 32.49782943725586, classify loss 32.49782943725586,\n",
            "            regress loss 0.0, 0.0, \n",
            "            0.0, 0.0\n",
            "Epoch 3 (lr 0.01)\n",
            "Train: tpr 100.0,\n",
            "            tnr 0.0, \n",
            "            total pos 1.0, total neg 2.0, \n",
            "            time 3.371426820755005\n",
            "loss 2.245054244995117, classify loss 0.20241984724998474,\n",
            "            regress loss 0.06842801719903946, 0.7616283893585205, \n",
            "            0.21745699644088745, 0.9951208829879761\n",
            "time 1.1657958030700684\n",
            "loss 33.333335876464844, classify loss 33.333335876464844,\n",
            "            regress loss 0.0, 0.0, \n",
            "            0.0, 0.0\n",
            "Epoch 4 (lr 0.01)\n",
            "Train: tpr 100.0,\n",
            "            tnr 0.0, \n",
            "            total pos 1.0, total neg 2.0, \n",
            "            time 3.390641450881958\n",
            "loss 1.478050708770752, classify loss 0.17577393352985382,\n",
            "            regress loss 0.12816044688224792, 0.2590789198875427, \n",
            "            0.21929174661636353, 0.695745587348938\n",
            "time 1.1660420894622803\n",
            "loss 33.333335876464844, classify loss 33.333335876464844,\n",
            "            regress loss 0.0, 0.0, \n",
            "            0.0, 0.0\n",
            "Epoch 5 (lr 0.01)\n",
            "Train: tpr 100.0,\n",
            "            tnr 0.0, \n",
            "            total pos 1.0, total neg 2.0, \n",
            "            time 3.3823940753936768\n",
            "loss 0.6030088067054749, classify loss 0.20598530769348145,\n",
            "            regress loss 0.028080489486455917, 0.10648520290851593, \n",
            "            0.03462880104780197, 0.2278289645910263\n",
            "time 1.177443265914917\n",
            "loss 33.333335876464844, classify loss 33.333335876464844,\n",
            "            regress loss 0.0, 0.0, \n",
            "            0.0, 0.0\n",
            "Epoch 6 (lr 0.01)\n",
            "Train: tpr 100.0,\n",
            "            tnr 0.0, \n",
            "            total pos 1.0, total neg 2.0, \n",
            "            time 3.374457597732544\n",
            "loss 1.7052979469299316, classify loss 0.11009939759969711,\n",
            "            regress loss 0.012687922455370426, 0.17581215500831604, \n",
            "            0.12076785415410995, 1.2859306335449219\n",
            "time 1.1732687950134277\n",
            "loss 33.333335876464844, classify loss 33.333335876464844,\n",
            "            regress loss 0.0, 0.0, \n",
            "            0.0, 0.0\n",
            "Epoch 7 (lr 0.01)\n",
            "Train: tpr 100.0,\n",
            "            tnr 0.0, \n",
            "            total pos 1.0, total neg 2.0, \n",
            "            time 3.372631072998047\n",
            "loss 0.30236002802848816, classify loss 0.20547212660312653,\n",
            "            regress loss 5.506132583832368e-05, 0.004366257227957249, \n",
            "            0.03581223264336586, 0.05665433779358864\n",
            "time 1.1712994575500488\n",
            "loss 33.333335876464844, classify loss 33.333335876464844,\n",
            "            regress loss 0.0, 0.0, \n",
            "            0.0, 0.0\n",
            "Epoch 8 (lr 0.001)\n",
            "Train: tpr 100.0,\n",
            "            tnr 0.0, \n",
            "            total pos 1.0, total neg 2.0, \n",
            "            time 3.3949127197265625\n",
            "loss 0.41033434867858887, classify loss 0.1943265199661255,\n",
            "            regress loss 0.001658804016187787, 0.028580622747540474, \n",
            "            0.012422851286828518, 0.17334556579589844\n",
            "time 1.1750125885009766\n",
            "loss 33.333335876464844, classify loss 33.333335876464844,\n",
            "            regress loss 0.0, 0.0, \n",
            "            0.0, 0.0\n",
            "Epoch 9 (lr 0.001)\n",
            "Train: tpr 100.0,\n",
            "            tnr 0.0, \n",
            "            total pos 1.0, total neg 2.0, \n",
            "            time 3.4024758338928223\n",
            "loss 0.765653133392334, classify loss 0.09924448281526566,\n",
            "            regress loss 0.06496752798557281, 0.04909200593829155, \n",
            "            0.008483202196657658, 0.5438659191131592\n",
            "time 1.1937854290008545\n",
            "loss 33.333335876464844, classify loss 33.333335876464844,\n",
            "            regress loss 0.0, 0.0, \n",
            "            0.0, 0.0\n",
            "Epoch 10 (lr 0.001)\n",
            "Train: tpr 100.0,\n",
            "            tnr 0.0, \n",
            "            total pos 1.0, total neg 2.0, \n",
            "            time 3.435969829559326\n",
            "loss 0.26010948419570923, classify loss 0.1544063836336136,\n",
            "            regress loss 0.036243971437215805, 0.04605957865715027, \n",
            "            0.022699063643813133, 0.0007004596409387887\n",
            "time 1.1821990013122559\n",
            "loss 33.33306884765625, classify loss 33.33306884765625,\n",
            "            regress loss 0.0, 0.0, \n",
            "            0.0, 0.0\n",
            "Epoch 11 (lr 0.001)\n",
            "Train: tpr 100.0,\n",
            "            tnr 0.0, \n",
            "            total pos 1.0, total neg 2.0, \n",
            "            time 3.386232614517212\n",
            "loss 0.25258976221084595, classify loss 0.1329793781042099,\n",
            "            regress loss 0.03623906150460243, 0.04870089516043663, \n",
            "            0.022751830518245697, 0.011918592266738415\n",
            "time 1.1790518760681152\n",
            "loss 33.326351165771484, classify loss 33.326351165771484,\n",
            "            regress loss 0.0, 0.0, \n",
            "            0.0, 0.0\n",
            "Epoch 12 (lr 0.001)\n",
            "Train: tpr 100.0,\n",
            "            tnr 0.0, \n",
            "            total pos 1.0, total neg 2.0, \n",
            "            time 3.409689426422119\n",
            "loss 0.46065786480903625, classify loss 0.13055801391601562,\n",
            "            regress loss 0.12613335251808167, 0.11182587593793869, \n",
            "            0.0404961071908474, 0.05164451152086258\n",
            "time 1.1817846298217773\n",
            "loss 33.273826599121094, classify loss 33.273826599121094,\n",
            "            regress loss 0.0, 0.0, \n",
            "            0.0, 0.0\n",
            "Epoch 13 (lr 0.0001)\n",
            "Train: tpr 100.0,\n",
            "            tnr 0.0, \n",
            "            total pos 1.0, total neg 2.0, \n",
            "            time 3.397763252258301\n",
            "loss 0.2099364548921585, classify loss 0.139665886759758,\n",
            "            regress loss 0.019209211692214012, 0.0317600816488266, \n",
            "            0.014614513143897057, 0.0046867672353982925\n",
            "time 1.1929478645324707\n",
            "loss 32.83830642700195, classify loss 32.83830642700195,\n",
            "            regress loss 0.0, 0.0, \n",
            "            0.0, 0.0\n",
            "Epoch 14 (lr 0.0001)\n",
            "Train: tpr 100.0,\n",
            "            tnr 0.0, \n",
            "            total pos 1.0, total neg 2.0, \n",
            "            time 3.3937511444091797\n",
            "loss 0.762427806854248, classify loss 0.22941190004348755,\n",
            "            regress loss 0.0065229726023972034, 0.07838021218776703, \n",
            "            0.02151777409017086, 0.42659497261047363\n",
            "time 1.1849417686462402\n",
            "loss 30.787750244140625, classify loss 30.787750244140625,\n",
            "            regress loss 0.0, 0.0, \n",
            "            0.0, 0.0\n"
          ],
          "name": "stdout"
        }
      ]
    },
    {
      "cell_type": "code",
      "metadata": {
        "id": "JFpJJXkvcrgL",
        "colab_type": "code",
        "colab": {}
      },
      "source": [
        ""
      ],
      "execution_count": 15,
      "outputs": []
    }
  ]
}