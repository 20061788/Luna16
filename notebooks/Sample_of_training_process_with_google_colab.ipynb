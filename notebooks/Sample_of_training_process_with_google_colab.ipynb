{
  "nbformat": 4,
  "nbformat_minor": 0,
  "metadata": {
    "colab": {
      "name": "Sample_of_training_process_with_google_colab.ipynb",
      "provenance": [],
      "collapsed_sections": [],
      "authorship_tag": "ABX9TyNqA8pAm8qDTSElAi0hbRLc",
      "include_colab_link": true
    },
    "kernelspec": {
      "name": "python3",
      "display_name": "Python 3"
    },
    "accelerator": "GPU"
  },
  "cells": [
    {
      "cell_type": "markdown",
      "metadata": {
        "id": "view-in-github",
        "colab_type": "text"
      },
      "source": [
        "<a href=\"https://colab.research.google.com/github/s-mostafa-a/Luna16/blob/master/notebooks/Sample_of_training_process_with_google_colab.ipynb\" target=\"_parent\"><img src=\"https://colab.research.google.com/assets/colab-badge.svg\" alt=\"Open In Colab\"/></a>"
      ]
    },
    {
      "cell_type": "code",
      "metadata": {
        "id": "UNakblVzwAir",
        "colab_type": "code",
        "colab": {
          "base_uri": "https://localhost:8080/"
        },
        "outputId": "64ecc6c0-4a99-4842-af2a-bfa67417f01c"
      },
      "source": [
        "!rm -r Luna16/\n",
        "!rm -r input.zip\n",
        "!rm -r input/\n",
        "!rm -r output/\n",
        "\n",
        "!git clone http://github.com/s-mostafa-a/Luna16"
      ],
      "execution_count": 1,
      "outputs": [
        {
          "output_type": "stream",
          "text": [
            "Cloning into 'Luna16'...\n",
            "warning: redirecting to https://github.com/s-mostafa-a/Luna16/\n",
            "remote: Enumerating objects: 59, done.\u001b[K\n",
            "remote: Counting objects:   1% (1/59)\u001b[K\rremote: Counting objects:   3% (2/59)\u001b[K\rremote: Counting objects:   5% (3/59)\u001b[K\rremote: Counting objects:   6% (4/59)\u001b[K\rremote: Counting objects:   8% (5/59)\u001b[K\rremote: Counting objects:  10% (6/59)\u001b[K\rremote: Counting objects:  11% (7/59)\u001b[K\rremote: Counting objects:  13% (8/59)\u001b[K\rremote: Counting objects:  15% (9/59)\u001b[K\rremote: Counting objects:  16% (10/59)\u001b[K\rremote: Counting objects:  18% (11/59)\u001b[K\rremote: Counting objects:  20% (12/59)\u001b[K\rremote: Counting objects:  22% (13/59)\u001b[K\rremote: Counting objects:  23% (14/59)\u001b[K\rremote: Counting objects:  25% (15/59)\u001b[K\rremote: Counting objects:  27% (16/59)\u001b[K\rremote: Counting objects:  28% (17/59)\u001b[K\rremote: Counting objects:  30% (18/59)\u001b[K\rremote: Counting objects:  32% (19/59)\u001b[K\rremote: Counting objects:  33% (20/59)\u001b[K\rremote: Counting objects:  35% (21/59)\u001b[K\rremote: Counting objects:  37% (22/59)\u001b[K\rremote: Counting objects:  38% (23/59)\u001b[K\rremote: Counting objects:  40% (24/59)\u001b[K\rremote: Counting objects:  42% (25/59)\u001b[K\rremote: Counting objects:  44% (26/59)\u001b[K\rremote: Counting objects:  45% (27/59)\u001b[K\rremote: Counting objects:  47% (28/59)\u001b[K\rremote: Counting objects:  49% (29/59)\u001b[K\rremote: Counting objects:  50% (30/59)\u001b[K\rremote: Counting objects:  52% (31/59)\u001b[K\rremote: Counting objects:  54% (32/59)\u001b[K\rremote: Counting objects:  55% (33/59)\u001b[K\rremote: Counting objects:  57% (34/59)\u001b[K\rremote: Counting objects:  59% (35/59)\u001b[K\rremote: Counting objects:  61% (36/59)\u001b[K\rremote: Counting objects:  62% (37/59)\u001b[K\rremote: Counting objects:  64% (38/59)\u001b[K\rremote: Counting objects:  66% (39/59)\u001b[K\rremote: Counting objects:  67% (40/59)\u001b[K\rremote: Counting objects:  69% (41/59)\u001b[K\rremote: Counting objects:  71% (42/59)\u001b[K\rremote: Counting objects:  72% (43/59)\u001b[K\rremote: Counting objects:  74% (44/59)\u001b[K\rremote: Counting objects:  76% (45/59)\u001b[K\rremote: Counting objects:  77% (46/59)\u001b[K\rremote: Counting objects:  79% (47/59)\u001b[K\rremote: Counting objects:  81% (48/59)\u001b[K\rremote: Counting objects:  83% (49/59)\u001b[K\rremote: Counting objects:  84% (50/59)\u001b[K\rremote: Counting objects:  86% (51/59)\u001b[K\rremote: Counting objects:  88% (52/59)\u001b[K\rremote: Counting objects:  89% (53/59)\u001b[K\rremote: Counting objects:  91% (54/59)\u001b[K\rremote: Counting objects:  93% (55/59)\u001b[K\rremote: Counting objects:  94% (56/59)\u001b[K\rremote: Counting objects:  96% (57/59)\u001b[K\rremote: Counting objects:  98% (58/59)\u001b[K\rremote: Counting objects: 100% (59/59)\u001b[K\rremote: Counting objects: 100% (59/59), done.\u001b[K\n",
            "remote: Compressing objects: 100% (44/44), done.\u001b[K\n",
            "remote: Total 397 (delta 21), reused 47 (delta 14), pack-reused 338\u001b[K\n",
            "Receiving objects: 100% (397/397), 3.27 MiB | 528.00 KiB/s, done.\n",
            "Resolving deltas: 100% (188/188), done.\n"
          ],
          "name": "stdout"
        }
      ]
    },
    {
      "cell_type": "code",
      "metadata": {
        "id": "zlLo_R1kwLHs",
        "colab_type": "code",
        "colab": {
          "base_uri": "https://localhost:8080/"
        },
        "outputId": "098f3afc-9c3e-4838-8c1d-a08b03a54439"
      },
      "source": [
        "from google.colab import drive\n",
        "drive.mount(\"/content/drive\")"
      ],
      "execution_count": 2,
      "outputs": [
        {
          "output_type": "stream",
          "text": [
            "Drive already mounted at /content/drive; to attempt to forcibly remount, call drive.mount(\"/content/drive\", force_remount=True).\n"
          ],
          "name": "stdout"
        }
      ]
    },
    {
      "cell_type": "code",
      "metadata": {
        "id": "fLSvMwBcwZ3d",
        "colab_type": "code",
        "colab": {}
      },
      "source": [
        "!cp ./drive/My\\ Drive/input.zip ./"
      ],
      "execution_count": 3,
      "outputs": []
    },
    {
      "cell_type": "code",
      "metadata": {
        "id": "mHmVOGqHwnaZ",
        "colab_type": "code",
        "colab": {
          "base_uri": "https://localhost:8080/",
          "height": 394
        },
        "outputId": "49688f7c-6b4e-460c-86e8-e1e2e888c49b"
      },
      "source": [
        "!unzip input.zip"
      ],
      "execution_count": 4,
      "outputs": [
        {
          "output_type": "stream",
          "text": [
            "Archive:  input.zip\n",
            "   creating: input/\n",
            "   creating: input/subset/\n",
            "  inflating: input/subset/1.3.6.1.4.1.14519.5.2.1.6279.6001.109002525524522225658609808059.raw  \n",
            "   creating: __MACOSX/\n",
            "   creating: __MACOSX/input/\n",
            "   creating: __MACOSX/input/subset/\n",
            "  inflating: __MACOSX/input/subset/._1.3.6.1.4.1.14519.5.2.1.6279.6001.109002525524522225658609808059.raw  \n",
            "  inflating: input/subset/1.3.6.1.4.1.14519.5.2.1.6279.6001.238522526736091851696274044574.mhd  \n",
            "  inflating: input/subset/1.3.6.1.4.1.14519.5.2.1.6279.6001.272042302501586336192628818865.raw  \n",
            "  inflating: input/subset/1.3.6.1.4.1.14519.5.2.1.6279.6001.311981398931043315779172047718.mhd  \n",
            "  inflating: input/subset/.DS_Store  \n",
            "  inflating: __MACOSX/input/subset/._.DS_Store  \n",
            "  inflating: input/subset/1.3.6.1.4.1.14519.5.2.1.6279.6001.311981398931043315779172047718.raw  \n",
            "  inflating: input/subset/1.3.6.1.4.1.14519.5.2.1.6279.6001.272042302501586336192628818865.mhd  \n",
            "  inflating: input/subset/1.3.6.1.4.1.14519.5.2.1.6279.6001.238522526736091851696274044574.raw  \n",
            "  inflating: input/subset/1.3.6.1.4.1.14519.5.2.1.6279.6001.109002525524522225658609808059.mhd  \n",
            "  inflating: input/.DS_Store         \n",
            "  inflating: __MACOSX/input/._.DS_Store  \n",
            "  inflating: input/candidates.csv    \n",
            "  inflating: input/annotations.csv   \n"
          ],
          "name": "stdout"
        }
      ]
    },
    {
      "cell_type": "code",
      "metadata": {
        "id": "r4TyVxlJw1S4",
        "colab_type": "code",
        "colab": {}
      },
      "source": [
        "!rm -r __MACOSX"
      ],
      "execution_count": 5,
      "outputs": []
    },
    {
      "cell_type": "code",
      "metadata": {
        "id": "S-YELs8ZxBhV",
        "colab_type": "code",
        "colab": {}
      },
      "source": [
        "!mkdir output"
      ],
      "execution_count": 6,
      "outputs": []
    },
    {
      "cell_type": "code",
      "metadata": {
        "id": "5p_gkGcHXBwX",
        "colab_type": "code",
        "colab": {}
      },
      "source": [
        "f = open(\"./Luna16/setup.py\", \"w+\")\n",
        "f.write(\"\"\"from setuptools import setup, find_packages\n",
        "setup(name='mosiluna', version='1.0', packages=find_packages())\n",
        "\"\"\")\n",
        "f.close()"
      ],
      "execution_count": 7,
      "outputs": []
    },
    {
      "cell_type": "code",
      "metadata": {
        "id": "QGZ5d_QZWFSW",
        "colab_type": "code",
        "colab": {
          "base_uri": "https://localhost:8080/",
          "height": 34
        },
        "outputId": "31cffd78-21f1-432c-a719-f91e9deb8ba1"
      },
      "source": [
        "%cd Luna16/"
      ],
      "execution_count": 8,
      "outputs": [
        {
          "output_type": "stream",
          "text": [
            "/content/Luna16\n"
          ],
          "name": "stdout"
        }
      ]
    },
    {
      "cell_type": "code",
      "metadata": {
        "id": "htdUiWDDWWCL",
        "colab_type": "code",
        "colab": {
          "base_uri": "https://localhost:8080/",
          "height": 119
        },
        "outputId": "522581f6-900c-42ec-c535-49b8499c9686"
      },
      "source": [
        "!pip install -e ."
      ],
      "execution_count": 9,
      "outputs": [
        {
          "output_type": "stream",
          "text": [
            "Obtaining file:///content/Luna16\n",
            "Installing collected packages: mosiluna\n",
            "  Found existing installation: mosiluna 1.0\n",
            "    Can't uninstall 'mosiluna'. No files were found to uninstall.\n",
            "  Running setup.py develop for mosiluna\n",
            "Successfully installed mosiluna\n"
          ],
          "name": "stdout"
        }
      ]
    },
    {
      "cell_type": "code",
      "metadata": {
        "id": "tDL6f5tzWt9q",
        "colab_type": "code",
        "colab": {
          "base_uri": "https://localhost:8080/",
          "height": 34
        },
        "outputId": "3775f70c-dfee-4ffa-b40e-0bac95f1a673"
      },
      "source": [
        "%cd .."
      ],
      "execution_count": 10,
      "outputs": [
        {
          "output_type": "stream",
          "text": [
            "/content\n"
          ],
          "name": "stdout"
        }
      ]
    },
    {
      "cell_type": "code",
      "metadata": {
        "id": "GaUYU8Nbx4Z_",
        "colab_type": "code",
        "colab": {
          "base_uri": "https://localhost:8080/",
          "height": 54
        },
        "outputId": "65eb17e6-d959-4e5f-f4be-af7de1a3beb1"
      },
      "source": [
        "import os\n",
        "import sys\n",
        "ls = ['Luna16']\n",
        "for f in ls:\n",
        "  fp = os.path.abspath(os.path.join(f))\n",
        "  if fp not in sys.path:\n",
        "    sys.path.insert(1, fp)\n",
        "print(sys.path)"
      ],
      "execution_count": 11,
      "outputs": [
        {
          "output_type": "stream",
          "text": [
            "['', '/env/python', '/usr/lib/python36.zip', '/usr/lib/python3.6', '/usr/lib/python3.6/lib-dynload', '/usr/local/lib/python3.6/dist-packages', '/content/Luna16', '/usr/lib/python3/dist-packages', '/usr/local/lib/python3.6/dist-packages/IPython/extensions', '/root/.ipython']\n"
          ],
          "name": "stdout"
        }
      ]
    },
    {
      "cell_type": "code",
      "metadata": {
        "id": "QriL8yzHXg7k",
        "colab_type": "code",
        "colab": {
          "base_uri": "https://localhost:8080/",
          "height": 34
        },
        "outputId": "e0a1ab83-dfb1-4973-e309-405f31bca5c5"
      },
      "source": [
        "!pip install SimpleITK"
      ],
      "execution_count": 12,
      "outputs": [
        {
          "output_type": "stream",
          "text": [
            "Requirement already satisfied: SimpleITK in /usr/local/lib/python3.6/dist-packages (1.2.4)\n"
          ],
          "name": "stdout"
        }
      ]
    },
    {
      "cell_type": "code",
      "metadata": {
        "id": "dwI6xNSYxrXa",
        "colab_type": "code",
        "colab": {}
      },
      "source": [
        "!echo \"OUTPUT_PATH, RESOURCES_PATH, SUB_DIRECTORY, BLOCK_SIZE, TARGET_SHAPE, COORDS_SHAPE, ANCHOR_SIZES, VAL_PCT, TOTAL_EPOCHS, DEFAULT_LR = '/content/output', '/content/input', '/subset/', 128, (32, 32, 32, 3, 5), (3, 32, 32, 32), [10, 30, 60], 0.5, 15, 0.01\" > ./Luna16/configs.py"
      ],
      "execution_count": 13,
      "outputs": []
    },
    {
      "cell_type": "code",
      "metadata": {
        "id": "ZZivro3dxSe4",
        "colab_type": "code",
        "colab": {
          "base_uri": "https://localhost:8080/"
        },
        "outputId": "df92969a-f4d1-4a0f-c20b-724225ed4f1c"
      },
      "source": [
        "!python ./Luna16/prepare/run.py"
      ],
      "execution_count": 14,
      "outputs": [
        {
          "output_type": "stream",
          "text": [
            "/content/Luna16/prepare/utility.py:263: UserWarning: Input image is entirely zero, no valid convex hull. Returning empty image\n",
            "  l = convex_hull_image(l)\n"
          ],
          "name": "stdout"
        }
      ]
    },
    {
      "cell_type": "code",
      "metadata": {
        "id": "3ogr5ZlDBWc4",
        "colab_type": "code",
        "colab": {
          "base_uri": "https://localhost:8080/",
          "height": 1000
        },
        "outputId": "a5a1b2a8-cf55-4a13-f6a9-dc32f4da17ac"
      },
      "source": [
        "!python ./Luna16/main/train.py"
      ],
      "execution_count": 15,
      "outputs": [
        {
          "output_type": "stream",
          "text": [
            "Epoch 0 (lr 0.01)\n",
            "./Luna16/main/train.py:68: RuntimeWarning: invalid value encountered in double_scalars\n",
            "  time {end_time - start_time}''')\n",
            "Train: tpr nan,\n",
            "            tnr 0.0, \n",
            "            total pos 0.0, total neg 2.0, \n",
            "            time 3.678887128829956\n",
            "loss 0.039541538804769516, classify loss 0.039541538804769516,\n",
            "            regress loss 0.0, 0.0, \n",
            "            0.0, 0.0\n",
            "time 0.3861572742462158\n",
            "loss 3.39573335647583, classify loss 0.6686657667160034,\n",
            "            regress loss 0.09753145277500153, 0.2708466351032257, \n",
            "            0.026379456743597984, 2.332310199737549\n",
            "Epoch 1 (lr 0.01)\n",
            "Train: tpr nan,\n",
            "            tnr 0.0, \n",
            "            total pos 0.0, total neg 2.0, \n",
            "            time 3.369678020477295\n",
            "loss 0.0066146282479166985, classify loss 0.0066146282479166985,\n",
            "            regress loss 0.0, 0.0, \n",
            "            0.0, 0.0\n",
            "time 0.3854188919067383\n",
            "loss 3.4040462970733643, classify loss 0.6706660985946655,\n",
            "            regress loss 0.09471887350082397, 0.2763732671737671, \n",
            "            0.024358954280614853, 2.3379290103912354\n",
            "Epoch 2 (lr 0.01)\n",
            "Train: tpr nan,\n",
            "            tnr 0.0, \n",
            "            total pos 0.0, total neg 2.0, \n",
            "            time 3.3601982593536377\n",
            "loss 0.006931825540959835, classify loss 0.006931825540959835,\n",
            "            regress loss 0.0, 0.0, \n",
            "            0.0, 0.0\n",
            "time 0.38785505294799805\n",
            "loss 3.4215147495269775, classify loss 0.6748632192611694,\n",
            "            regress loss 0.09537801146507263, 0.2853177785873413, \n",
            "            0.024793066084384918, 2.34116268157959\n",
            "Epoch 3 (lr 0.01)\n",
            "Train: tpr nan,\n",
            "            tnr 0.0, \n",
            "            total pos 0.0, total neg 2.0, \n",
            "            time 3.3659653663635254\n",
            "loss 0.0005167745403014123, classify loss 0.0005167745403014123,\n",
            "            regress loss 0.0, 0.0, \n",
            "            0.0, 0.0\n",
            "time 0.3845090866088867\n",
            "loss 3.4434542655944824, classify loss 0.6808122396469116,\n",
            "            regress loss 0.09593144804239273, 0.29462409019470215, \n",
            "            0.02643047273159027, 2.345656156539917\n",
            "Epoch 4 (lr 0.01)\n",
            "Train: tpr nan,\n",
            "            tnr 0.0, \n",
            "            total pos 0.0, total neg 2.0, \n",
            "            time 3.3663313388824463\n",
            "loss 0.0005139115964993834, classify loss 0.0005139115964993834,\n",
            "            regress loss 0.0, 0.0, \n",
            "            0.0, 0.0\n",
            "time 0.38530850410461426\n",
            "loss 3.452787399291992, classify loss 0.6864184141159058,\n",
            "            regress loss 0.09710556268692017, 0.302401602268219, \n",
            "            0.026151496917009354, 2.340710163116455\n",
            "Epoch 5 (lr 0.01)\n",
            "Train: tpr nan,\n",
            "            tnr 0.0, \n",
            "            total pos 0.0, total neg 2.0, \n",
            "            time 3.3740487098693848\n",
            "loss 9.179199878417421e-06, classify loss 9.179199878417421e-06,\n",
            "            regress loss 0.0, 0.0, \n",
            "            0.0, 0.0\n",
            "time 0.38586974143981934\n",
            "loss 3.459141731262207, classify loss 0.6897656917572021,\n",
            "            regress loss 0.09859703481197357, 0.30346497893333435, \n",
            "            0.025709781795740128, 2.341604232788086\n",
            "Epoch 6 (lr 0.01)\n",
            "Train: tpr nan,\n",
            "            tnr 0.0, \n",
            "            total pos 0.0, total neg 2.0, \n",
            "            time 3.3754537105560303\n",
            "loss 6.169118933030404e-06, classify loss 6.169118933030404e-06,\n",
            "            regress loss 0.0, 0.0, \n",
            "            0.0, 0.0\n",
            "time 0.3887817859649658\n",
            "loss 3.4672083854675293, classify loss 0.6938084363937378,\n",
            "            regress loss 0.09945345669984818, 0.3021698296070099, \n",
            "            0.025974726304411888, 2.345801830291748\n",
            "Epoch 7 (lr 0.01)\n",
            "Train: tpr nan,\n",
            "            tnr 0.0, \n",
            "            total pos 0.0, total neg 2.0, \n",
            "            time 3.3725922107696533\n",
            "loss 9.536756806483027e-07, classify loss 9.536756806483027e-07,\n",
            "            regress loss 0.0, 0.0, \n",
            "            0.0, 0.0\n",
            "time 0.38608837127685547\n",
            "loss 3.4801862239837646, classify loss 0.6992830634117126,\n",
            "            regress loss 0.09840074181556702, 0.3004956543445587, \n",
            "            0.027330297976732254, 2.3546764850616455\n",
            "Epoch 8 (lr 0.001)\n",
            "Train: tpr nan,\n",
            "            tnr 0.0, \n",
            "            total pos 0.0, total neg 2.0, \n",
            "            time 3.3729448318481445\n",
            "loss 8.940704674387234e-07, classify loss 8.940704674387234e-07,\n",
            "            regress loss 0.0, 0.0, \n",
            "            0.0, 0.0\n",
            "time 0.38680076599121094\n",
            "loss 3.494615077972412, classify loss 0.7057263851165771,\n",
            "            regress loss 0.09571143239736557, 0.29667606949806213, \n",
            "            0.030978253111243248, 2.365522861480713\n",
            "Epoch 9 (lr 0.001)\n",
            "Train: tpr nan,\n",
            "            tnr 0.0, \n",
            "            total pos 0.0, total neg 2.0, \n",
            "            time 3.355754852294922\n",
            "loss 0.0, classify loss 0.0,\n",
            "            regress loss 0.0, 0.0, \n",
            "            0.0, 0.0\n",
            "time 0.3861966133117676\n",
            "loss 3.5093178749084473, classify loss 0.7114541530609131,\n",
            "            regress loss 0.09252165257930756, 0.29530394077301025, \n",
            "            0.03500698506832123, 2.3750312328338623\n",
            "Epoch 10 (lr 0.001)\n",
            "Train: tpr nan,\n",
            "            tnr 0.0, \n",
            "            total pos 0.0, total neg 2.0, \n",
            "            time 3.4275364875793457\n",
            "loss 2.324586603208445e-06, classify loss 2.324586603208445e-06,\n",
            "            regress loss 0.0, 0.0, \n",
            "            0.0, 0.0\n",
            "time 0.3856494426727295\n",
            "loss 3.5282835960388184, classify loss 0.7179340124130249,\n",
            "            regress loss 0.09104348719120026, 0.2993314862251282, \n",
            "            0.037745386362075806, 2.3822290897369385\n",
            "Epoch 11 (lr 0.001)\n",
            "Train: tpr nan,\n",
            "            tnr 0.0, \n",
            "            total pos 0.0, total neg 2.0, \n",
            "            time 3.381960153579712\n",
            "loss 5.960465188081798e-08, classify loss 5.960465188081798e-08,\n",
            "            regress loss 0.0, 0.0, \n",
            "            0.0, 0.0\n",
            "time 0.3871138095855713\n",
            "loss 3.5523579120635986, classify loss 0.7249305248260498,\n",
            "            regress loss 0.09135754406452179, 0.30768051743507385, \n",
            "            0.03950696438550949, 2.3888823986053467\n",
            "Epoch 12 (lr 0.001)\n",
            "Train: tpr nan,\n",
            "            tnr 0.0, \n",
            "            total pos 0.0, total neg 2.0, \n",
            "            time 3.352083206176758\n",
            "loss 0.0, classify loss 0.0,\n",
            "            regress loss 0.0, 0.0, \n",
            "            0.0, 0.0\n",
            "time 0.38739681243896484\n",
            "loss 3.5735578536987305, classify loss 0.7309179306030273,\n",
            "            regress loss 0.0922139585018158, 0.3173104226589203, \n",
            "            0.04088352248072624, 2.3922319412231445\n",
            "Epoch 13 (lr 0.0001)\n",
            "Train: tpr nan,\n",
            "            tnr 0.0, \n",
            "            total pos 0.0, total neg 2.0, \n",
            "            time 3.3834240436553955\n",
            "loss 3.5762798233918147e-07, classify loss 3.5762798233918147e-07,\n",
            "            regress loss 0.0, 0.0, \n",
            "            0.0, 0.0\n",
            "time 0.38692355155944824\n",
            "loss 3.5942254066467285, classify loss 0.736677885055542,\n",
            "            regress loss 0.0927114337682724, 0.3264119029045105, \n",
            "            0.04207821190357208, 2.396345853805542\n",
            "Epoch 14 (lr 0.0001)\n",
            "Train: tpr nan,\n",
            "            tnr 0.0, \n",
            "            total pos 0.0, total neg 2.0, \n",
            "            time 3.3621315956115723\n",
            "loss 0.0, classify loss 0.0,\n",
            "            regress loss 0.0, 0.0, \n",
            "            0.0, 0.0\n",
            "time 0.38826751708984375\n",
            "loss 3.617288589477539, classify loss 0.7435715198516846,\n",
            "            regress loss 0.09229489415884018, 0.33619025349617004, \n",
            "            0.04335455596446991, 2.4018774032592773\n"
          ],
          "name": "stdout"
        }
      ]
    },
    {
      "cell_type": "code",
      "metadata": {
        "id": "JFpJJXkvcrgL",
        "colab_type": "code",
        "colab": {}
      },
      "source": [
        ""
      ],
      "execution_count": 15,
      "outputs": []
    }
  ]
}