{
 "cells": [
  {
   "cell_type": "markdown",
   "metadata": {},
   "source": [
    "# Why augmentation?\n",
    "Simply according the [paper](https://arxiv.org/abs/1711.08324), Data augmentation is used to alleviate the over-fitting problem.\n",
    "\n",
    "Also we should use 3d patches (sub-images) instead of whole image. This is because: \"[it] is infeasible for our 3D CNN [to use entire image as input to the models] due to the GPU memory constraint. When the resolution of lung scans is kept at a fine level, even a single sample consumes more than the maximum memory of mainstream GPUs.\"\n",
    "These patches are sized 128\\*128\\*128 for height, length, and width respectively.\n",
    "At their paper, they have said that:\n",
    "\n",
    "`Two kinds of patches are randomly selected. First, 70% of the inputs are selected so that they contain at least one nodule. Second, 30% of the inputs are cropped randomly from lung scans and may not contain any nodules.`\n",
    "\n",
    "And I have covered this at `preprocess.run.save_augmented_data` file of this repository. The code is quite easy.\n",
    "\n",
    "Anyway, I want to describe `Resize`, `Random Cropping`, and `Rotation` which are mentioned at the paper. Actually, they have not coded the `Rotation` part and just flip the image, but I thought it would be good for augmentation part if I cover it."
   ]
  },
  {
   "cell_type": "markdown",
   "metadata": {},
   "source": [
    "# Resize\n"
   ]
  },
  {
   "cell_type": "code",
   "execution_count": 1,
   "metadata": {},
   "outputs": [],
   "source": [
    "from PIL import Image\n",
    "from glob import glob\n",
    "import pandas as pd\n",
    "import skimage, os\n",
    "from skimage.morphology import ball, disk, dilation, binary_erosion, remove_small_objects, erosion, closing, reconstruction, binary_closing\n",
    "from skimage.measure import label,regionprops, perimeter\n",
    "from skimage.morphology import binary_dilation, binary_opening, convex_hull_image\n",
    "from skimage.filters import roberts, sobel\n",
    "from skimage import measure, feature\n",
    "from skimage.segmentation import clear_border\n",
    "from skimage import data\n",
    "from scipy import ndimage as ndi\n",
    "import matplotlib.pyplot as plt\n",
    "from mpl_toolkits.mplot3d.art3d import Poly3DCollection\n",
    "import pydicom\n",
    "import scipy.misc\n",
    "import numpy as np\n",
    "import SimpleITK as sitk"
   ]
  },
  {
   "cell_type": "code",
   "execution_count": 2,
   "metadata": {},
   "outputs": [],
   "source": [
    "def scale(img: np.array, scale_factor: float, spacing: tuple, centers: list, radii: list):\n",
    "    # original values is between 0.8 and 1.15\n",
    "    assert (.75 <= scale_factor <= 1.25)\n",
    "    out_centers = [tuple(np.rint(np.array(c) * scale_factor).astype(int)) for c in centers]\n",
    "    out_radii = [r * scale_factor for r in radii]\n",
    "    spacing = np.array(spacing) * scale_factor\n",
    "    img1 = scipy.ndimage.interpolation.zoom(img, spacing, mode='nearest')\n",
    "    return img1, tuple(spacing), out_centers, out_radii"
   ]
  },
  {
   "cell_type": "markdown",
   "metadata": {},
   "source": [
    "To test functionality of this method, we need an argmax for 3d array. But there is no such method, so we write something like this to overcome the problem:"
   ]
  },
  {
   "cell_type": "code",
   "execution_count": 3,
   "metadata": {},
   "outputs": [],
   "source": [
    "def argmax_3d(img: np.array):\n",
    "    max1 = np.max(img, axis=0)\n",
    "    argmax1 = np.argmax(img, axis=0)\n",
    "    max2 = np.max(max1, axis=0)\n",
    "    argmax2 = np.argmax(max1, axis=0)\n",
    "    argmax3 = np.argmax(max2, axis=0)\n",
    "    argmax_3d = (argmax1[argmax2[argmax3], argmax3], argmax2[argmax3], argmax3)\n",
    "    return argmax_3d, img[argmax_3d]\n"
   ]
  },
  {
   "cell_type": "markdown",
   "metadata": {},
   "source": [
    "All of these methods which I implemented, work for both 2d and 3d images. So first I show you the 2d one, then we will work on the 3d image."
   ]
  },
  {
   "cell_type": "code",
   "execution_count": 4,
   "metadata": {},
   "outputs": [
    {
     "data": {
      "image/png": "[encoded data removed]",
      "text/plain": [
       "<Figure size 432x288 with 1 Axes>"
      ]
     },
     "metadata": {
      "needs_background": "light"
     },
     "output_type": "display_data"
    }
   ],
   "source": [
    "black_white = np.zeros((100,100))\n",
    "centers = [(25,25), (25,35)]\n",
    "for i in range(50):\n",
    "    black_white[i, 0:50] = np.ones(50)\n",
    "\n",
    "# creating fake nodule\n",
    "for center in centers:\n",
    "    for i in [-1,0,1]:\n",
    "        for j in [-1,0,1]:\n",
    "            black_white[center[0] + i, center[1] + j] = 0.\n",
    "from matplotlib import pyplot as plt\n",
    "plt.imshow(black_white, cmap=plt.cm.gray)\n",
    "plt.show()"
   ]
  },
  {
   "cell_type": "markdown",
   "metadata": {},
   "source": [
    "Then we resize it:"
   ]
  },
  {
   "cell_type": "code",
   "execution_count": 5,
   "metadata": {},
   "outputs": [
    {
     "name": "stdout",
     "output_type": "stream",
     "text": [
      "shape (121, 121)\n",
      "(1.2128647099810823, 1.2128647099810823) [1.2128647099810823, 2.4257294199621646]\n"
     ]
    },
    {
     "data": {
      "image/png": "[encoded data removed]",
      "text/plain": [
       "<Figure size 432x288 with 1 Axes>"
      ]
     },
     "metadata": {
      "needs_background": "light"
     },
     "output_type": "display_data"
    }
   ],
   "source": [
    "radii = [1,2] # radius of our toy nodule, but here we do not need it.\n",
    "spacing = (1.,1.) # spacing of 3d array\n",
    "rnd = np.random.random() / 2 + 0.75\n",
    "bw2, bws2, bwc2, bwr2 = scale(img=black_white, scale_factor=rnd, spacing=spacing, centers=centers, radii=radii)\n",
    "print('shape', bw2.shape)\n",
    "print(bws2, bwr2)\n",
    "plt.imshow(bw2, cmap=plt.cm.gray)\n",
    "plt.show()"
   ]
  },
  {
   "cell_type": "markdown",
   "metadata": {},
   "source": [
    "Now, to show you the 3d example, I want to make an all zeros 3d image with just one 1.0 in it. This is a toy example, in contrast to the real problem, the voxel which its value is 1.0 will point to the center of a possible nodule. We made the array to track the place of our \"toy nodule\" after transformations!"
   ]
  },
  {
   "cell_type": "code",
   "execution_count": 6,
   "metadata": {},
   "outputs": [
    {
     "name": "stdout",
     "output_type": "stream",
     "text": [
      "(1.2268524560743845, 1.2268524560743845, 1.2268524560743845) [5]\n"
     ]
    }
   ],
   "source": [
    "img = np.zeros((100, 100, 100), dtype=float)\n",
    "centers = [(60, 60, 60)] # voxel which will be 1.0\n",
    "img[centers[0]] = 1.\n",
    "radii = [5] # radius of our toy nodule, but here we do not need it.\n",
    "spacing = (1.,1.,1.) # spacing of 3d array\n",
    "rnd = np.random.random() / 2 + 0.75\n",
    "img2, spacing2, centers2, radii2 = scale(img=img, scale_factor=rnd, spacing=spacing, centers=centers, radii=radii)\n",
    "print(spacing2, radii)"
   ]
  },
  {
   "cell_type": "markdown",
   "metadata": {},
   "source": [
    "So now we wonder if resulting center is still highest value of resulting image or not. Lets see:"
   ]
  },
  {
   "cell_type": "code",
   "execution_count": 7,
   "metadata": {},
   "outputs": [
    {
     "name": "stdout",
     "output_type": "stream",
     "text": [
      "[(74, 74, 74)]\n",
      "((74, 74, 74), 0.9845713592637586)\n"
     ]
    }
   ],
   "source": [
    "print(centers2)\n",
    "print(argmax_3d(img2))"
   ]
  },
  {
   "cell_type": "markdown",
   "metadata": {},
   "source": [
    "Yes! It is. but as you see, the max value is less than 1.0! why? It is because of the `scipy.ndimage.interpolation.zoom` method which we have choosen mode='nearest'. You can find documentation [here](https://docs.scipy.org/doc/scipy-0.14.0/reference/generated/scipy.ndimage.interpolation.zoom.html)."
   ]
  },
  {
   "cell_type": "markdown",
   "metadata": {},
   "source": [
    "# Random crop\n",
    "\n",
    "Random cropping is very important to avoid over-fitting. We must consider not cropping in a manner that nodule always stays in the center of 3d image, so this is called random cropping.\n",
    "\n",
    "If we assume block_size as a constant, then we can assign each point inside of the original image exactly one cropping 3d cube.\n",
    "Then the procedure is simple, first we should define a bounding box for the center of cropping 3d cube, then randomly choose one of the points inside that bounding box as center, and then crop 3d image!\n",
    "\n",
    "Assume that the below picture is a ct scan which contains a nodule in it which We want to randomly crop the image in a way that it contains nodule.\n",
    "![not cropped image](./figs/one_3d_cube.jpeg)\n",
    "\n",
    "\n",
    "\n",
    "\n",
    "One of the cropping forms could be this one:\n",
    "![cropped image](./figs/two_3d_cubes.jpeg)"
   ]
  },
  {
   "cell_type": "code",
   "execution_count": 8,
   "metadata": {},
   "outputs": [],
   "source": [
    "def _get_cube_from_img_new(img, origin: tuple, block_size=128, pad_value=106.):\n",
    "    assert 2 <= len(origin) <= 3\n",
    "    final_image_shape = tuple([block_size] * len(origin))\n",
    "    result = np.ones(final_image_shape) * pad_value\n",
    "    start_at_original_images = []\n",
    "    end_at_original_images = []\n",
    "    start_at_result_images = []\n",
    "    end_at_result_images = []\n",
    "    for i, center_of_a_dim in enumerate(origin):\n",
    "        start_at_original_image = int(center_of_a_dim - block_size / 2)\n",
    "        end_at_original_image = start_at_original_image + block_size\n",
    "        if start_at_original_image < 0:\n",
    "            start_at_result_image = abs(start_at_original_image)\n",
    "            start_at_original_image = 0\n",
    "        else:\n",
    "            start_at_result_image = 0\n",
    "        if end_at_original_image > img.shape[i]:\n",
    "            end_at_original_image = img.shape[i]\n",
    "            end_at_result_image = start_at_result_image + (end_at_original_image - start_at_original_image)\n",
    "        else:\n",
    "            end_at_result_image = block_size\n",
    "        start_at_original_images.append(start_at_original_image)\n",
    "        end_at_original_images.append(end_at_original_image)\n",
    "        start_at_result_images.append(start_at_result_image)\n",
    "        end_at_result_images.append(end_at_result_image)\n",
    "    # for simplicity\n",
    "    sri = start_at_result_images\n",
    "    eri = end_at_result_images\n",
    "    soi = start_at_original_images\n",
    "    eoi = end_at_original_images\n",
    "    if len(origin) == 3:\n",
    "        result[sri[0]:eri[0], sri[1]:eri[1], sri[2]:eri[2]] = img[soi[0]:eoi[0], soi[1]:eoi[1], soi[2]:eoi[2]]\n",
    "    elif len(origin) == 2:\n",
    "        result[sri[0]:eri[0], sri[1]:eri[1]] = img[soi[0]:eoi[0], soi[1]:eoi[1]]\n",
    "    return result\n",
    "\n",
    "def random_crop(img: np.array, centers: list, radii: list, main_tumor_idx: int, spacing: tuple, block_size: int,\n",
    "                pad_value: float, margin: int):\n",
    "    max_radius_index = np.max(np.round(radii[main_tumor_idx] / np.array(spacing)).astype(int))\n",
    "    center_of_cube = list(centers[main_tumor_idx])\n",
    "    shifts = []\n",
    "    for i in range(len(centers[main_tumor_idx])):\n",
    "        high = int(block_size / 2) - max_radius_index - margin\n",
    "        if high < 0:\n",
    "            raise ValueError('Image can not be cropped with this margin! (decrease it)')\n",
    "        shift = np.random.randint(low=-abs(high), high=abs(high))\n",
    "        center_of_cube[i] += shift\n",
    "        shifts.append(shift)    \n",
    "    out_img = _get_cube_from_img_new(img, origin=tuple(center_of_cube), block_size=block_size, pad_value=pad_value)\n",
    "    out_centers = []\n",
    "    for i in range(len(centers)):\n",
    "        diff = np.array(centers[main_tumor_idx]) - np.array(centers[i])\n",
    "        out_centers.append(\n",
    "            tuple(np.array([int(block_size / 2)] * len(centers[i]), dtype=int) - np.array(shifts, dtype=int) - diff))\n",
    "    return out_img, out_centers\n"
   ]
  },
  {
   "cell_type": "code",
   "execution_count": 9,
   "metadata": {},
   "outputs": [
    {
     "name": "stdout",
     "output_type": "stream",
     "text": [
      "[(54, 79), (54, 89)]\n"
     ]
    },
    {
     "data": {
      "image/png": "[encoded data removed]",
      "text/plain": [
       "<Figure size 432x288 with 1 Axes>"
      ]
     },
     "metadata": {
      "needs_background": "light"
     },
     "output_type": "display_data"
    }
   ],
   "source": [
    "black_white = np.zeros((200,200))\n",
    "centers = [(25,25), (25,35)]\n",
    "for i in range(50):\n",
    "    black_white[i, 0:50] = np.ones(50)\n",
    "\n",
    "# creating fake nodule\n",
    "for center in centers:\n",
    "    for i in [-1,0,1]:\n",
    "        for j in [-1,0,1]:\n",
    "            black_white[center[0] + i, center[1] + j] = 0.\n",
    "            \n",
    "out_img, out_centers = random_crop(black_white, centers=centers, radii=[1.,2.], main_tumor_idx=0, spacing=(1.,1.), block_size=100, pad_value=0, margin=10)\n",
    "print(out_centers)\n",
    "plt.imshow(out_img, cmap=plt.cm.gray)\n",
    "plt.show()"
   ]
  },
  {
   "cell_type": "markdown",
   "metadata": {},
   "source": [
    "Now just like previous step, we want to test if it works?"
   ]
  },
  {
   "cell_type": "markdown",
   "metadata": {},
   "source": [
    "new parameters are: main_tumor_idx, pad_value, block_size, margin\n",
    "\n",
    "* **main_tumor_idx**: we are passing all exsiting tumors at ct scan by `centers` and `radii` parameter. `centers` is a list which point to center of tumors and `radii` is the list of radiuses for corresponding centers. With main_tumor_idx we specify which tumor MUST be inside the patch (also some others \"may\" be inside it). main_tumor_idx is an integer and is the index of main tumor in `radii` and `centers` list.\n",
    "* **pad_value**: if a patch falls out of the original image, it will be filled with pad_value.\n",
    "* **block_size**: size of the patch in each axis. (at the paper which we are going through it, block_size is 128 which means resulting patches are 128\\*128\\*128)\n",
    "* **margin**: it is the margin which we dont want a tumor be inside that area. if we set big a margin, it means that we want patches that their main tumor is near the center of patch."
   ]
  },
  {
   "cell_type": "code",
   "execution_count": 10,
   "metadata": {},
   "outputs": [],
   "source": [
    "img = np.zeros((100, 100, 100), dtype=float)\n",
    "centers = [(60, 60, 60)] # voxel which will be 1.0\n",
    "img[centers[0]] = 1.\n",
    "radii = [5] # radius of our toy nodule, but here we do not need it.\n",
    "spacing = (1.,1.,1.) # spacing of 3d array\n",
    "rnd = np.random.random() / 2 + 0.75\n",
    "img3, centers3 = random_crop(img=img, centers=centers, radii=radii, main_tumor_idx=0, spacing=spacing, block_size=30, pad_value=0.0, margin=5)"
   ]
  },
  {
   "cell_type": "code",
   "execution_count": 11,
   "metadata": {},
   "outputs": [
    {
     "name": "stdout",
     "output_type": "stream",
     "text": [
      "((19, 17, 15), 1.0)\n",
      "(19, 17, 15)\n"
     ]
    }
   ],
   "source": [
    "print(argmax_3d(img3))\n",
    "print(centers3[0])"
   ]
  },
  {
   "cell_type": "markdown",
   "metadata": {},
   "source": [
    "Now I want to add another center to the original image. Lets test two scenarios:\n",
    "* The second center is inside the cropped image\n",
    "* The second center is NOT inside the cropped image"
   ]
  },
  {
   "cell_type": "markdown",
   "metadata": {},
   "source": [
    "### The second center is inside the cropped image\n",
    "\n",
    "I add the next tumors center with (56,56,56) which its distance to the first one is (4,4,4). so if I set the margin 5, it means that the second tumor will always be inside the marginal distance to the first tumor (because (4,4,4) < (5,5,5)), so random cropping will never cut out the second tumor and will always exist on the resulting patch."
   ]
  },
  {
   "cell_type": "code",
   "execution_count": 12,
   "metadata": {},
   "outputs": [
    {
     "name": "stdout",
     "output_type": "stream",
     "text": [
      "[(7, 11, 12), (3, 7, 8)]\n",
      "[1.0, 1.0]\n"
     ]
    }
   ],
   "source": [
    "img = np.zeros((100, 100, 100), dtype=float)\n",
    "centers = [(60, 60, 60), (56,56,56)]\n",
    "# stands for radiuses of nodules, but here we do not need it.\n",
    "radii = [1, 2]\n",
    "spacing = (1.,1.,1.)\n",
    "img[centers[0]] = 1.\n",
    "img[centers[1]] = 1.\n",
    "img3, centers3 = random_crop(img=img, centers=centers, radii=radii, main_tumor_idx=0, spacing=spacing, block_size=30, pad_value=0.0,margin=5)\n",
    "print(centers3)\n",
    "print([img3[centers3[0]], img3[centers3[1]]])"
   ]
  },
  {
   "cell_type": "markdown",
   "metadata": {},
   "source": [
    "### The second center is NOT inside the cropped image\n",
    "Now I added second tumors center with distance of (31,31,31) which is bigger than block_size! Meaning that it will always fall out of the resulting patch!"
   ]
  },
  {
   "cell_type": "code",
   "execution_count": 13,
   "metadata": {},
   "outputs": [
    {
     "name": "stdout",
     "output_type": "stream",
     "text": [
      "[(21, 22, 24), (52, 53, 55)]\n"
     ]
    },
    {
     "ename": "IndexError",
     "evalue": "index 52 is out of bounds for axis 0 with size 30",
     "output_type": "error",
     "traceback": [
      "\u001b[0;31m---------------------------------------------------------------------------\u001b[0m",
      "\u001b[0;31mIndexError\u001b[0m                                Traceback (most recent call last)",
      "\u001b[0;32m<ipython-input-13-8dad3eb14a03>\u001b[0m in \u001b[0;36m<module>\u001b[0;34m\u001b[0m\n\u001b[1;32m      8\u001b[0m \u001b[0mimg3\u001b[0m\u001b[0;34m,\u001b[0m \u001b[0mcenters3\u001b[0m \u001b[0;34m=\u001b[0m \u001b[0mrandom_crop\u001b[0m\u001b[0;34m(\u001b[0m\u001b[0mimg\u001b[0m\u001b[0;34m=\u001b[0m\u001b[0mimg\u001b[0m\u001b[0;34m,\u001b[0m \u001b[0mcenters\u001b[0m\u001b[0;34m=\u001b[0m\u001b[0mcenters\u001b[0m\u001b[0;34m,\u001b[0m \u001b[0mradii\u001b[0m\u001b[0;34m=\u001b[0m\u001b[0mradii\u001b[0m\u001b[0;34m,\u001b[0m \u001b[0mmain_tumor_idx\u001b[0m\u001b[0;34m=\u001b[0m\u001b[0;36m0\u001b[0m\u001b[0;34m,\u001b[0m \u001b[0mspacing\u001b[0m\u001b[0;34m=\u001b[0m\u001b[0mspacing\u001b[0m\u001b[0;34m,\u001b[0m \u001b[0mblock_size\u001b[0m\u001b[0;34m=\u001b[0m\u001b[0;36m30\u001b[0m\u001b[0;34m,\u001b[0m \u001b[0mpad_value\u001b[0m\u001b[0;34m=\u001b[0m\u001b[0;36m0.0\u001b[0m\u001b[0;34m,\u001b[0m\u001b[0mmargin\u001b[0m\u001b[0;34m=\u001b[0m\u001b[0;36m1\u001b[0m\u001b[0;34m)\u001b[0m\u001b[0;34m\u001b[0m\u001b[0;34m\u001b[0m\u001b[0m\n\u001b[1;32m      9\u001b[0m \u001b[0mprint\u001b[0m\u001b[0;34m(\u001b[0m\u001b[0mcenters3\u001b[0m\u001b[0;34m)\u001b[0m\u001b[0;34m\u001b[0m\u001b[0;34m\u001b[0m\u001b[0m\n\u001b[0;32m---> 10\u001b[0;31m \u001b[0mprint\u001b[0m\u001b[0;34m(\u001b[0m\u001b[0;34m[\u001b[0m\u001b[0mimg3\u001b[0m\u001b[0;34m[\u001b[0m\u001b[0mcenters3\u001b[0m\u001b[0;34m[\u001b[0m\u001b[0;36m0\u001b[0m\u001b[0;34m]\u001b[0m\u001b[0;34m]\u001b[0m\u001b[0;34m,\u001b[0m \u001b[0mimg3\u001b[0m\u001b[0;34m[\u001b[0m\u001b[0mcenters3\u001b[0m\u001b[0;34m[\u001b[0m\u001b[0;36m1\u001b[0m\u001b[0;34m]\u001b[0m\u001b[0;34m]\u001b[0m\u001b[0;34m]\u001b[0m\u001b[0;34m)\u001b[0m\u001b[0;34m\u001b[0m\u001b[0;34m\u001b[0m\u001b[0m\n\u001b[0m",
      "\u001b[0;31mIndexError\u001b[0m: index 52 is out of bounds for axis 0 with size 30"
     ]
    }
   ],
   "source": [
    "img = np.zeros((100, 100, 100), dtype=float)\n",
    "centers = [(60, 60, 60), (91,91,91)]\n",
    "# stands for radiuses of nodules, but here we do not need it.\n",
    "radii = [5, 6]\n",
    "spacing = (1.,1.,1.)\n",
    "img[centers[0]] = 1.\n",
    "img[centers[1]] = 1.\n",
    "img3, centers3 = random_crop(img=img, centers=centers, radii=radii, main_tumor_idx=0, spacing=spacing, block_size=30, pad_value=0.0,margin=1)\n",
    "print(centers3)\n",
    "print([img3[centers3[0]], img3[centers3[1]]])"
   ]
  },
  {
   "cell_type": "markdown",
   "metadata": {},
   "source": [
    "As you can see, second tumor is not inside of the cropped 3d patch. <b>because we had mentioned that `main_tumor_idx=0`</b>, we could change it to 1, then first tumor would not be in the patch! "
   ]
  },
  {
   "cell_type": "markdown",
   "metadata": {},
   "source": [
    "# Random rotation\n",
    "\n",
    "Now, we have some patches with size of (block_size\\*block_size\\*block_size), we can randomly rotate it. But we should consider that if we rotate the 3d patch, `centers` of the tumors as well as `spacing` of 3d array may be affected.\n",
    "(It is obvious that why centers change, but why spacing changes? because if we rotate a 3d array, then the resulting array's sort of axes may not be the same as the original one. for example if we rotate a 3d array with axes sort of z,y,x 90 degrees, it may change the axes sort to y,z,x. so the spacing of z may not be the same as the spacing for y and we should change the spacing orders too!)\n",
    "\n",
    "**note1:** All of our rotations are 90 degrees.\n",
    "\n",
    "**note2:** I have written rotation method for both 2d and 3d usages. Here I show 2d version, But the 3d one works very similar. (Try it!)\n",
    "\n",
    "new parameter: rot_id\n",
    "* rot_id: it is sth that I assigned to each rotation. for example in 2d, rot_id=3 means 3 * 90 degrees of rotation. if rot_id >= 4, it will flip with respect to y axis."
   ]
  },
  {
   "cell_type": "code",
   "execution_count": 14,
   "metadata": {},
   "outputs": [],
   "source": [
    "from functools import partial\n",
    "\n",
    "def _get_point_after_2d_rotation(in_points: list, shape: tuple, rot90s: int, flip: bool = False):\n",
    "    assert len(in_points[0]) == 2 and len(shape) == 2\n",
    "    rot90s = rot90s % 4\n",
    "    result_points = []\n",
    "    for in_point in in_points:\n",
    "        result_point = list(in_point)\n",
    "        for i in range(rot90s):\n",
    "            previous = result_point.copy()\n",
    "            axes = [0, 1]\n",
    "            point_complement = (shape[0] - previous[0], shape[1] - previous[1])\n",
    "            result_point[axes[0]] = point_complement[axes[1]]\n",
    "            result_point[axes[1]] = previous[axes[0]]\n",
    "        if flip:\n",
    "            result_point[0] = shape[0] - result_point[0]\n",
    "        result_points.append(tuple(result_point))\n",
    "    return result_points\n",
    "\n",
    "\n",
    "def _get_point_after_3d_rotation(in_points: list, shape: tuple, axes, rot90s: int, flip: bool = False):\n",
    "    rot90s = rot90s % 4\n",
    "    result_points = []\n",
    "    for in_point in in_points:\n",
    "        result_point = list(in_point)\n",
    "        other_axis = [item for item in [0, 1, 2] if item not in axes]\n",
    "        for i in range(rot90s):\n",
    "            previous = result_point.copy()\n",
    "            point_complement = np.array(shape, dtype=int) - np.array(previous, dtype=int)\n",
    "            result_point[axes[0]] = point_complement[axes[1]]\n",
    "            result_point[axes[1]] = previous[axes[0]]\n",
    "        if flip:\n",
    "            result_point[other_axis[0]] = shape[other_axis[0]] - result_point[other_axis[0]]\n",
    "        result_points.append(tuple(result_point))\n",
    "    return result_points\n",
    "\n",
    "\n",
    "def rotate(img: np.array, spacing: tuple, centers: list, rotate_id: int):\n",
    "    spacing = list(spacing)\n",
    "    dimensions = len(img.shape)\n",
    "    assert (dimensions == 3 and rotate_id < 24) or (dimensions == 2 and rotate_id < 8)\n",
    "    other_axes = [i for i in range(dimensions)]\n",
    "\n",
    "    if dimensions == 2:\n",
    "        axis = [0]\n",
    "        out_centers = partial(_get_point_after_2d_rotation, in_points=centers, shape=tuple(img.shape))\n",
    "    else:  # dimensions == 3\n",
    "        axis = rotate_id // 8\n",
    "        other_axes.pop(axis)\n",
    "        out_centers = partial(_get_point_after_3d_rotation, in_points=centers, shape=tuple(img.shape), axes=other_axes)\n",
    "\n",
    "    which_rotation = rotate_id % 8\n",
    "    flip = which_rotation >= 4\n",
    "    rotation_times = (which_rotation % 4)\n",
    "\n",
    "    spacing_exchanged = (which_rotation % 2) != 0\n",
    "    if spacing_exchanged:\n",
    "        if dimensions == 3:\n",
    "            tmp = spacing[other_axes[0]]\n",
    "            spacing[other_axes[0]] = spacing[other_axes[1]]\n",
    "            spacing[other_axes[1]] = tmp\n",
    "        elif dimensions == 2:\n",
    "            tmp = spacing[0]\n",
    "            spacing[0] = spacing[1]\n",
    "            spacing[1] = tmp\n",
    "    img = np.rot90(img, k=rotation_times, axes=other_axes)\n",
    "    if flip:\n",
    "        img = np.flip(img, axis=axis)\n",
    "    return img, tuple(spacing), out_centers(rot90s=rotation_times, flip=flip)\n",
    "\n"
   ]
  },
  {
   "cell_type": "code",
   "execution_count": 15,
   "metadata": {},
   "outputs": [],
   "source": [
    "black_white = np.zeros((200,200))\n",
    "centers = [(25,25), (25,35)]\n",
    "for i in range(50):\n",
    "    black_white[i, 0:50] = np.ones(50)\n",
    "\n",
    "# creating fake nodule\n",
    "for center in centers:\n",
    "    for i in [-1,0,1]:\n",
    "        for j in [-1,0,1]:\n",
    "            black_white[center[0] + i, center[1] + j] = 0."
   ]
  },
  {
   "cell_type": "code",
   "execution_count": 16,
   "metadata": {},
   "outputs": [
    {
     "data": {
      "image/png": "[encoded data removed]",
      "text/plain": [
       "<Figure size 432x288 with 1 Axes>"
      ]
     },
     "metadata": {
      "needs_background": "light"
     },
     "output_type": "display_data"
    }
   ],
   "source": [
    "from matplotlib import pyplot as plt\n",
    "plt.imshow(black_white, cmap=plt.cm.bone)\n",
    "plt.show()"
   ]
  },
  {
   "cell_type": "code",
   "execution_count": 17,
   "metadata": {},
   "outputs": [
    {
     "name": "stdout",
     "output_type": "stream",
     "text": [
      "(1.0, 2.0) [(25, 25), (25, 35)]\n"
     ]
    },
    {
     "data": {
      "image/png": "[encoded data removed]",
      "text/plain": [
       "<Figure size 432x288 with 1 Axes>"
      ]
     },
     "metadata": {
      "needs_background": "light"
     },
     "output_type": "display_data"
    },
    {
     "name": "stdout",
     "output_type": "stream",
     "text": [
      "(2.0, 1.0) [(175, 25), (165, 25)]\n"
     ]
    },
    {
     "data": {
      "image/png": "[encoded data removed]",
      "text/plain": [
       "<Figure size 432x288 with 1 Axes>"
      ]
     },
     "metadata": {
      "needs_background": "light"
     },
     "output_type": "display_data"
    },
    {
     "name": "stdout",
     "output_type": "stream",
     "text": [
      "(1.0, 2.0) [(175, 175), (175, 165)]\n"
     ]
    },
    {
     "data": {
      "image/png": "[encoded data removed]",
      "text/plain": [
       "<Figure size 432x288 with 1 Axes>"
      ]
     },
     "metadata": {
      "needs_background": "light"
     },
     "output_type": "display_data"
    },
    {
     "name": "stdout",
     "output_type": "stream",
     "text": [
      "(2.0, 1.0) [(25, 175), (35, 175)]\n"
     ]
    },
    {
     "data": {
      "image/png": "[encoded data removed]",
      "text/plain": [
       "<Figure size 432x288 with 1 Axes>"
      ]
     },
     "metadata": {
      "needs_background": "light"
     },
     "output_type": "display_data"
    },
    {
     "name": "stdout",
     "output_type": "stream",
     "text": [
      "(1.0, 2.0) [(175, 25), (175, 35)]\n"
     ]
    },
    {
     "data": {
      "image/png": "[encoded data removed]",
      "text/plain": [
       "<Figure size 432x288 with 1 Axes>"
      ]
     },
     "metadata": {
      "needs_background": "light"
     },
     "output_type": "display_data"
    },
    {
     "name": "stdout",
     "output_type": "stream",
     "text": [
      "(2.0, 1.0) [(25, 25), (35, 25)]\n"
     ]
    },
    {
     "data": {
      "image/png": "[encoded data removed]",
      "text/plain": [
       "<Figure size 432x288 with 1 Axes>"
      ]
     },
     "metadata": {
      "needs_background": "light"
     },
     "output_type": "display_data"
    },
    {
     "name": "stdout",
     "output_type": "stream",
     "text": [
      "(1.0, 2.0) [(25, 175), (25, 165)]\n"
     ]
    },
    {
     "data": {
      "image/png": "[encoded data removed]",
      "text/plain": [
       "<Figure size 432x288 with 1 Axes>"
      ]
     },
     "metadata": {
      "needs_background": "light"
     },
     "output_type": "display_data"
    },
    {
     "name": "stdout",
     "output_type": "stream",
     "text": [
      "(2.0, 1.0) [(175, 175), (165, 175)]\n"
     ]
    },
    {
     "data": {
      "image/png": "[encoded data removed]",
      "text/plain": [
       "<Figure size 432x288 with 1 Axes>"
      ]
     },
     "metadata": {
      "needs_background": "light"
     },
     "output_type": "display_data"
    }
   ],
   "source": [
    "# i set spacing to be some dummy\n",
    "spacing=(1.0,2.0)\n",
    "for i in range(8):\n",
    "    res_img, res_spacing, res_centers = rotate(black_white, spacing=spacing, centers=centers, rotate_id=i)\n",
    "    print(res_spacing, res_centers)\n",
    "    plt.imshow(res_img, cmap=plt.cm.bone)\n",
    "    plt.show()\n"
   ]
  },
  {
   "cell_type": "markdown",
   "metadata": {},
   "source": [
    "As you can see, all possible rotations have been made!"
   ]
  },
  {
   "cell_type": "markdown",
   "metadata": {},
   "source": [
    "# Finally!\n",
    "Putting these 3 transforms, we have a greate augmentation tool!"
   ]
  },
  {
   "cell_type": "code",
   "execution_count": 18,
   "metadata": {},
   "outputs": [],
   "source": [
    "def get_augmented_cube(img: np.array, radii: list, centers: list, main_tumor_idx: int, spacing: tuple, block_size=128,\n",
    "                       pad_value=106, margin=10, rot_id=None):\n",
    "    scale_factor = np.random.random() / 2 + .75\n",
    "    rotate_id = np.random.randint(0, 24) if not rot_id else rot_id\n",
    "    img1, spacing1, centers1, radii1 = scale(img, scale_factor=scale_factor, spacing=spacing, centers=centers,\n",
    "                                             radii=radii)\n",
    "    img2, centers2 = random_crop(img=img1, centers=centers1, radii=radii1, main_tumor_idx=main_tumor_idx,\n",
    "                                 spacing=spacing1, block_size=block_size, pad_value=pad_value, margin=margin)\n",
    "    \n",
    "    existing_centers_in_patch = []\n",
    "    for i in range(len(centers2)):\n",
    "        dont_count = False\n",
    "        for ax in centers2[i]:\n",
    "            if not (0 <= ax <= block_size):\n",
    "                dont_count = True\n",
    "                break\n",
    "        if not dont_count:\n",
    "            existing_centers_in_patch.append(i)\n",
    "    img3, spacing2, centers3 = rotate(img=img2, spacing=spacing1, centers=centers2, rotate_id=rotate_id)\n",
    "    return img3, radii1, centers3, spacing2, existing_centers_in_patch\n"
   ]
  },
  {
   "cell_type": "code",
   "execution_count": 19,
   "metadata": {},
   "outputs": [],
   "source": [
    "black_white = np.zeros((200,200))\n",
    "centers = [(25,25), (25,35)]\n",
    "for i in range(50):\n",
    "    black_white[i, 0:50] = np.ones(50)\n",
    "\n",
    "# creating fake nodule\n",
    "for center in centers:\n",
    "    for i in [-1,0,1]:\n",
    "        for j in [-1,0,1]:\n",
    "            black_white[center[0] + i, center[1] + j] = 0.\n",
    "black_white2, radii2, centers2, spacing2, existing_centers_in_patch = get_augmented_cube(black_white, radii=[1.,1.], centers=centers, main_tumor_idx=0, spacing=(1.,1.), block_size = 100, pad_value=0, margin = 10, rot_id=5)"
   ]
  },
  {
   "cell_type": "code",
   "execution_count": 20,
   "metadata": {},
   "outputs": [
    {
     "data": {
      "image/png": "[encoded data removed]",
      "text/plain": [
       "<Figure size 432x288 with 1 Axes>"
      ]
     },
     "metadata": {
      "needs_background": "light"
     },
     "output_type": "display_data"
    },
    {
     "data": {
      "image/png": "[encoded data removed]",
      "text/plain": [
       "<Figure size 432x288 with 1 Axes>"
      ]
     },
     "metadata": {
      "needs_background": "light"
     },
     "output_type": "display_data"
    },
    {
     "name": "stdout",
     "output_type": "stream",
     "text": [
      "[(60, 57), (72, 57)]\n",
      "Which tumors exist in the final patch: [0, 1]\n"
     ]
    }
   ],
   "source": [
    "from matplotlib import pyplot as plt\n",
    "plt.imshow(black_white, cmap=plt.cm.gray)\n",
    "plt.show()\n",
    "\n",
    "plt.imshow(black_white2, cmap=plt.cm.gray)\n",
    "plt.show()\n",
    "print(centers2)\n",
    "print('Which tumors exist in the final patch:', existing_centers_in_patch)"
   ]
  },
  {
   "cell_type": "markdown",
   "metadata": {},
   "source": [
    "Tadaaa! This is our amazing result!:)\n",
    "\n",
    "\n",
    "I emphasize once again that this process has been done with 2d image, But works for the 3d images of LUNA16 too! (It was trivial because our mission was to augment the LUNA16;) )\n",
    "\n",
    "I showed you this procedure in 2d because 3d image has got some difficulty on showing the results.\n",
    "\n",
    "However, to see the results of 3d, first you should download the LUNA16 dataset, I have desribed it in [this jupyter notebook](./Preprocessor.ipynb) (**Load image** part), then change 3 first variables of `configs.py` (it is in the root of this repository) to your own envinroment, run the `prepare/run`, then np.load(addr) which addr is the path to one of the .npy files at `OUTPUT_PATH/positives/` directory. (what is `OUTPUT_PATH`? you have modified it in `configs.py`!)"
   ]
  },
  {
   "cell_type": "code",
   "execution_count": null,
   "metadata": {},
   "outputs": [],
   "source": []
  }
 ],
 "metadata": {
  "kernelspec": {
   "display_name": "Python 3",
   "language": "python",
   "name": "python3"
  },
  "language_info": {
   "codemirror_mode": {
    "name": "ipython",
    "version": 3
   },
   "file_extension": ".py",
   "mimetype": "text/x-python",
   "name": "python",
   "nbconvert_exporter": "python",
   "pygments_lexer": "ipython3",
   "version": "3.8.3"
  }
 },
 "nbformat": 4,
 "nbformat_minor": 4
}
